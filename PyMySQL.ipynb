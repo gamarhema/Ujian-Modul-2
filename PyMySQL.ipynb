{
 "metadata": {
  "language_info": {
   "codemirror_mode": {
    "name": "ipython",
    "version": 3
   },
   "file_extension": ".py",
   "mimetype": "text/x-python",
   "name": "python",
   "nbconvert_exporter": "python",
   "pygments_lexer": "ipython3",
   "version": "3.9.0-final"
  },
  "orig_nbformat": 2,
  "kernelspec": {
   "name": "python3",
   "display_name": "Python 3",
   "language": "python"
  }
 },
 "nbformat": 4,
 "nbformat_minor": 2,
 "cells": [
  {
   "cell_type": "code",
   "execution_count": 1,
   "metadata": {},
   "outputs": [],
   "source": [
    "import numpy as np\n",
    "import pandas as pd\n",
    "import mysql.connector\n",
    "import sqlalchemy as alc"
   ]
  },
  {
   "cell_type": "code",
   "execution_count": 2,
   "metadata": {},
   "outputs": [],
   "source": [
    "## CREATE CONNECTION\n",
    "mydb = mysql.connector.connect(host='localhost',user= 'root',\n",
    "                               passwd='Propayers140610', database= 'sakila')"
   ]
  },
  {
   "cell_type": "code",
   "execution_count": 4,
   "metadata": {},
   "outputs": [],
   "source": [
    "## SHOW FULL TABLES SAKILA\n",
    "mycursor = mydb.cursor()\n",
    "mycursor.execute('''show full tables;''')\n",
    "myresult = mycursor.fetchall()\n",
    "\n",
    "columns = mycursor.column_names\n",
    "tables = pd.DataFrame(myresult, columns=columns)\n",
    "# tables"
   ]
  },
  {
   "source": [
    "### 1. 10 film komedi dengan durasi tersingkat."
   ],
   "cell_type": "markdown",
   "metadata": {}
  },
  {
   "cell_type": "code",
   "execution_count": 8,
   "metadata": {},
   "outputs": [
    {
     "output_type": "execute_result",
     "data": {
      "text/plain": [
       "              title category  length\n",
       "0   DOWNHILL ENOUGH   Comedy      47\n",
       "1    HEAVEN FREEDOM   Comedy      48\n",
       "2  PARADISE SABRINA   Comedy      48\n",
       "3  HURRICANE AFFAIR   Comedy      49\n",
       "4         ZORRO ARK   Comedy      50\n",
       "5        LION UNCUT   Comedy      50\n",
       "6       CLOSER BANG   Comedy      58\n",
       "7   AIRPLANE SIERRA   Comedy      62\n",
       "8   LONELY ELEPHANT   Comedy      67\n",
       "9      DOOM DANCING   Comedy      68"
      ],
      "text/html": "<div>\n<style scoped>\n    .dataframe tbody tr th:only-of-type {\n        vertical-align: middle;\n    }\n\n    .dataframe tbody tr th {\n        vertical-align: top;\n    }\n\n    .dataframe thead th {\n        text-align: right;\n    }\n</style>\n<table border=\"1\" class=\"dataframe\">\n  <thead>\n    <tr style=\"text-align: right;\">\n      <th></th>\n      <th>title</th>\n      <th>category</th>\n      <th>length</th>\n    </tr>\n  </thead>\n  <tbody>\n    <tr>\n      <th>0</th>\n      <td>DOWNHILL ENOUGH</td>\n      <td>Comedy</td>\n      <td>47</td>\n    </tr>\n    <tr>\n      <th>1</th>\n      <td>HEAVEN FREEDOM</td>\n      <td>Comedy</td>\n      <td>48</td>\n    </tr>\n    <tr>\n      <th>2</th>\n      <td>PARADISE SABRINA</td>\n      <td>Comedy</td>\n      <td>48</td>\n    </tr>\n    <tr>\n      <th>3</th>\n      <td>HURRICANE AFFAIR</td>\n      <td>Comedy</td>\n      <td>49</td>\n    </tr>\n    <tr>\n      <th>4</th>\n      <td>ZORRO ARK</td>\n      <td>Comedy</td>\n      <td>50</td>\n    </tr>\n    <tr>\n      <th>5</th>\n      <td>LION UNCUT</td>\n      <td>Comedy</td>\n      <td>50</td>\n    </tr>\n    <tr>\n      <th>6</th>\n      <td>CLOSER BANG</td>\n      <td>Comedy</td>\n      <td>58</td>\n    </tr>\n    <tr>\n      <th>7</th>\n      <td>AIRPLANE SIERRA</td>\n      <td>Comedy</td>\n      <td>62</td>\n    </tr>\n    <tr>\n      <th>8</th>\n      <td>LONELY ELEPHANT</td>\n      <td>Comedy</td>\n      <td>67</td>\n    </tr>\n    <tr>\n      <th>9</th>\n      <td>DOOM DANCING</td>\n      <td>Comedy</td>\n      <td>68</td>\n    </tr>\n  </tbody>\n</table>\n</div>"
     },
     "metadata": {},
     "execution_count": 8
    }
   ],
   "source": [
    "# memilih kolom title, category, length dari tabel film_list\n",
    "## melakukan konditional kategori= komedi\n",
    "## mengurutkan berdasarkan durasi film\n",
    "## membatasi 10 film\n",
    "mycursor = mydb.cursor()\n",
    "mycursor.execute('''select title, category, length\n",
    "from film_list\n",
    "where category='comedy'\n",
    "order by length\n",
    "limit 10;;''')\n",
    "myresult = mycursor.fetchall()\n",
    "\n",
    "columns = mycursor.column_names\n",
    "tables = pd.DataFrame(myresult, columns=columns)\n",
    "tables"
   ]
  },
  {
   "source": [
    "### 2. Daftar kategori film beserta jumlah film tiap kategori & rata-rata harga sewa DVD film tiap kategori. Urutkan data dari kategori dengan jumlah film terbanyak."
   ],
   "cell_type": "markdown",
   "metadata": {}
  },
  {
   "cell_type": "code",
   "execution_count": 13,
   "metadata": {},
   "outputs": [
    {
     "output_type": "execute_result",
     "data": {
      "text/plain": [
       "       category  JumlahMovie RataHargaSewa\n",
       "0       Foreign           73      3.099589\n",
       "1        Sports           73      3.099589\n",
       "2        Family           69      2.758116\n",
       "3   Documentary           68      2.666471\n",
       "4     Animation           66      2.808182\n",
       "5        Action           64      2.646250\n",
       "6           New           63      3.116984\n",
       "7        Sci-Fi           61      3.219508\n",
       "8         Drama           61      2.990000\n",
       "9         Games           61      3.252295\n",
       "10     Children           60      2.890000\n",
       "11       Comedy           58      3.162414\n",
       "12     Classics           57      2.744386\n",
       "13       Horror           56      3.025714\n",
       "14       Travel           56      3.275714\n",
       "15        Music           51      2.950784"
      ],
      "text/html": "<div>\n<style scoped>\n    .dataframe tbody tr th:only-of-type {\n        vertical-align: middle;\n    }\n\n    .dataframe tbody tr th {\n        vertical-align: top;\n    }\n\n    .dataframe thead th {\n        text-align: right;\n    }\n</style>\n<table border=\"1\" class=\"dataframe\">\n  <thead>\n    <tr style=\"text-align: right;\">\n      <th></th>\n      <th>category</th>\n      <th>JumlahMovie</th>\n      <th>RataHargaSewa</th>\n    </tr>\n  </thead>\n  <tbody>\n    <tr>\n      <th>0</th>\n      <td>Foreign</td>\n      <td>73</td>\n      <td>3.099589</td>\n    </tr>\n    <tr>\n      <th>1</th>\n      <td>Sports</td>\n      <td>73</td>\n      <td>3.099589</td>\n    </tr>\n    <tr>\n      <th>2</th>\n      <td>Family</td>\n      <td>69</td>\n      <td>2.758116</td>\n    </tr>\n    <tr>\n      <th>3</th>\n      <td>Documentary</td>\n      <td>68</td>\n      <td>2.666471</td>\n    </tr>\n    <tr>\n      <th>4</th>\n      <td>Animation</td>\n      <td>66</td>\n      <td>2.808182</td>\n    </tr>\n    <tr>\n      <th>5</th>\n      <td>Action</td>\n      <td>64</td>\n      <td>2.646250</td>\n    </tr>\n    <tr>\n      <th>6</th>\n      <td>New</td>\n      <td>63</td>\n      <td>3.116984</td>\n    </tr>\n    <tr>\n      <th>7</th>\n      <td>Sci-Fi</td>\n      <td>61</td>\n      <td>3.219508</td>\n    </tr>\n    <tr>\n      <th>8</th>\n      <td>Drama</td>\n      <td>61</td>\n      <td>2.990000</td>\n    </tr>\n    <tr>\n      <th>9</th>\n      <td>Games</td>\n      <td>61</td>\n      <td>3.252295</td>\n    </tr>\n    <tr>\n      <th>10</th>\n      <td>Children</td>\n      <td>60</td>\n      <td>2.890000</td>\n    </tr>\n    <tr>\n      <th>11</th>\n      <td>Comedy</td>\n      <td>58</td>\n      <td>3.162414</td>\n    </tr>\n    <tr>\n      <th>12</th>\n      <td>Classics</td>\n      <td>57</td>\n      <td>2.744386</td>\n    </tr>\n    <tr>\n      <th>13</th>\n      <td>Horror</td>\n      <td>56</td>\n      <td>3.025714</td>\n    </tr>\n    <tr>\n      <th>14</th>\n      <td>Travel</td>\n      <td>56</td>\n      <td>3.275714</td>\n    </tr>\n    <tr>\n      <th>15</th>\n      <td>Music</td>\n      <td>51</td>\n      <td>2.950784</td>\n    </tr>\n  </tbody>\n</table>\n</div>"
     },
     "metadata": {},
     "execution_count": 13
    }
   ],
   "source": [
    "## memilih category, count(title) as JumlahMovie, avg(price) as RataHargaSewa dri tabel film_list\n",
    "## mengelompokkan berdasarkan kategori\n",
    "## mebgurutkan berdasarkan jumlah movie\n",
    "mycursor = mydb.cursor()\n",
    "mycursor.execute('''select category, count(title) as JumlahMovie, avg(price) as RataHargaSewa\n",
    "from film_list\n",
    "group by category\n",
    "order by JumlahMovie desc\n",
    ";''')\n",
    "myresult = mycursor.fetchall()\n",
    "\n",
    "columns = mycursor.column_names\n",
    "tables = pd.DataFrame(myresult, columns=columns)\n",
    "tables"
   ]
  },
  {
   "cell_type": "code",
   "execution_count": null,
   "metadata": {},
   "outputs": [],
   "source": []
  },
  {
   "source": [
    "### 3. Daftar 10 aktor/aktris yang paling banyak membintangi film. Kolom yang ditampilkan minimal: id aktor, nama depan, nama belakang dan jumlah film yang dibintangi. Kemudian urutkan dari aktor/aktris yang membintangi film terbanyak."
   ],
   "cell_type": "markdown",
   "metadata": {}
  },
  {
   "cell_type": "code",
   "execution_count": 35,
   "metadata": {},
   "outputs": [
    {
     "output_type": "execute_result",
     "data": {
      "text/plain": [
       "   actor_id first_name    last_name  jumlah_movie\n",
       "0       107       GINA    DEGENERES            42\n",
       "1       102     WALTER         TORN            41\n",
       "2       198       MARY       KEITEL            40\n",
       "3       181    MATTHEW       CARREY            39\n",
       "4        23     SANDRA       KILMER            37\n",
       "5        81   SCARLETT        DAMON            36\n",
       "6       158     VIVIEN     BASINGER            35\n",
       "7       144     ANGELA  WITHERSPOON            35\n",
       "8       106    GROUCHO        DUNST            35\n",
       "9        60      HENRY        BERRY            35"
      ],
      "text/html": "<div>\n<style scoped>\n    .dataframe tbody tr th:only-of-type {\n        vertical-align: middle;\n    }\n\n    .dataframe tbody tr th {\n        vertical-align: top;\n    }\n\n    .dataframe thead th {\n        text-align: right;\n    }\n</style>\n<table border=\"1\" class=\"dataframe\">\n  <thead>\n    <tr style=\"text-align: right;\">\n      <th></th>\n      <th>actor_id</th>\n      <th>first_name</th>\n      <th>last_name</th>\n      <th>jumlah_movie</th>\n    </tr>\n  </thead>\n  <tbody>\n    <tr>\n      <th>0</th>\n      <td>107</td>\n      <td>GINA</td>\n      <td>DEGENERES</td>\n      <td>42</td>\n    </tr>\n    <tr>\n      <th>1</th>\n      <td>102</td>\n      <td>WALTER</td>\n      <td>TORN</td>\n      <td>41</td>\n    </tr>\n    <tr>\n      <th>2</th>\n      <td>198</td>\n      <td>MARY</td>\n      <td>KEITEL</td>\n      <td>40</td>\n    </tr>\n    <tr>\n      <th>3</th>\n      <td>181</td>\n      <td>MATTHEW</td>\n      <td>CARREY</td>\n      <td>39</td>\n    </tr>\n    <tr>\n      <th>4</th>\n      <td>23</td>\n      <td>SANDRA</td>\n      <td>KILMER</td>\n      <td>37</td>\n    </tr>\n    <tr>\n      <th>5</th>\n      <td>81</td>\n      <td>SCARLETT</td>\n      <td>DAMON</td>\n      <td>36</td>\n    </tr>\n    <tr>\n      <th>6</th>\n      <td>158</td>\n      <td>VIVIEN</td>\n      <td>BASINGER</td>\n      <td>35</td>\n    </tr>\n    <tr>\n      <th>7</th>\n      <td>144</td>\n      <td>ANGELA</td>\n      <td>WITHERSPOON</td>\n      <td>35</td>\n    </tr>\n    <tr>\n      <th>8</th>\n      <td>106</td>\n      <td>GROUCHO</td>\n      <td>DUNST</td>\n      <td>35</td>\n    </tr>\n    <tr>\n      <th>9</th>\n      <td>60</td>\n      <td>HENRY</td>\n      <td>BERRY</td>\n      <td>35</td>\n    </tr>\n  </tbody>\n</table>\n</div>"
     },
     "metadata": {},
     "execution_count": 35
    }
   ],
   "source": [
    "## memilih actor_id, first_name, last_name, count(film_id) as jumlah_movie dari table actor\n",
    "## melakukan  join table film actor dengan kolom yang sama yaitu actor id\n",
    "## mengelompokkan berdasarkan actor id\n",
    "## mengurutukan berdasarkan jumlah_movie dan actor_id\n",
    "mycursor = mydb.cursor()\n",
    "mycursor.execute('''select actor_id, first_name, last_name, count(film_id) as jumlah_movie\n",
    "from actor \n",
    "join film_actor using (actor_id)\n",
    "group by actor_id\n",
    "order by jumlah_movie desc, actor_id desc\n",
    "limit 10;''')\n",
    "myresult = mycursor.fetchall()\n",
    "\n",
    "columns = mycursor.column_names\n",
    "tables = pd.DataFrame(myresult, columns=columns)\n",
    "tables"
   ]
  },
  {
   "source": [
    "### 4. Kategori film apakah yang paling banyak dibintangi Gina Degeneres? Untuk mengetahuinya, tampilkan daftar kategori film beserta jumlah film yang pernah dibintangi oleh Gina Degeneres. Kolom yang diwajibkan ada yaitu kategori film dan jumlah film yang dibintangi."
   ],
   "cell_type": "markdown",
   "metadata": {}
  },
  {
   "cell_type": "code",
   "execution_count": 34,
   "metadata": {},
   "outputs": [
    {
     "output_type": "execute_result",
     "data": {
      "text/plain": [
       "       category  jumlah_Movie\n",
       "0   Documentary          2856\n",
       "1        Horror          2352\n",
       "2        Family          2898\n",
       "3       Foreign          3066\n",
       "4        Comedy          2436\n",
       "5        Sports          3066\n",
       "6         Music          2142\n",
       "7      Classics          2394\n",
       "8     Animation          2772\n",
       "9        Action          2688\n",
       "10          New          2646\n",
       "11       Sci-Fi          2562\n",
       "12        Drama          2562\n",
       "13       Travel          2352\n",
       "14        Games          2562\n",
       "15     Children          2520"
      ],
      "text/html": "<div>\n<style scoped>\n    .dataframe tbody tr th:only-of-type {\n        vertical-align: middle;\n    }\n\n    .dataframe tbody tr th {\n        vertical-align: top;\n    }\n\n    .dataframe thead th {\n        text-align: right;\n    }\n</style>\n<table border=\"1\" class=\"dataframe\">\n  <thead>\n    <tr style=\"text-align: right;\">\n      <th></th>\n      <th>category</th>\n      <th>jumlah_Movie</th>\n    </tr>\n  </thead>\n  <tbody>\n    <tr>\n      <th>0</th>\n      <td>Documentary</td>\n      <td>2856</td>\n    </tr>\n    <tr>\n      <th>1</th>\n      <td>Horror</td>\n      <td>2352</td>\n    </tr>\n    <tr>\n      <th>2</th>\n      <td>Family</td>\n      <td>2898</td>\n    </tr>\n    <tr>\n      <th>3</th>\n      <td>Foreign</td>\n      <td>3066</td>\n    </tr>\n    <tr>\n      <th>4</th>\n      <td>Comedy</td>\n      <td>2436</td>\n    </tr>\n    <tr>\n      <th>5</th>\n      <td>Sports</td>\n      <td>3066</td>\n    </tr>\n    <tr>\n      <th>6</th>\n      <td>Music</td>\n      <td>2142</td>\n    </tr>\n    <tr>\n      <th>7</th>\n      <td>Classics</td>\n      <td>2394</td>\n    </tr>\n    <tr>\n      <th>8</th>\n      <td>Animation</td>\n      <td>2772</td>\n    </tr>\n    <tr>\n      <th>9</th>\n      <td>Action</td>\n      <td>2688</td>\n    </tr>\n    <tr>\n      <th>10</th>\n      <td>New</td>\n      <td>2646</td>\n    </tr>\n    <tr>\n      <th>11</th>\n      <td>Sci-Fi</td>\n      <td>2562</td>\n    </tr>\n    <tr>\n      <th>12</th>\n      <td>Drama</td>\n      <td>2562</td>\n    </tr>\n    <tr>\n      <th>13</th>\n      <td>Travel</td>\n      <td>2352</td>\n    </tr>\n    <tr>\n      <th>14</th>\n      <td>Games</td>\n      <td>2562</td>\n    </tr>\n    <tr>\n      <th>15</th>\n      <td>Children</td>\n      <td>2520</td>\n    </tr>\n  </tbody>\n</table>\n</div>"
     },
     "metadata": {},
     "execution_count": 34
    }
   ],
   "source": [
    "mycursor = mydb.cursor()\n",
    "mycursor.execute('''select category, count(f.title) as jumlah_Movie\n",
    "from film_list f, actor\n",
    "inner join film_actor on film_actor.actor_id = actor.actor_id\n",
    "join film on film.film_id = film_actor.film_id\n",
    "where actor.first_name = 'GINA' and actor.last_name = 'DEGENERES' \n",
    "group by category\n",
    ";''')\n",
    "myresult = mycursor.fetchall()\n",
    "\n",
    "columns = mycursor.column_names\n",
    "tables = pd.DataFrame(myresult, columns=columns)\n",
    "tables"
   ]
  },
  {
   "cell_type": "code",
   "execution_count": 61,
   "metadata": {},
   "outputs": [],
   "source": [
    "# mycursor = mydb.cursor()\n",
    "# mycursor.execute('''select *\n",
    "# from film_list\n",
    "# limit 10;''')\n",
    "# myresult = mycursor.fetchall()\n",
    "\n",
    "# columns = mycursor.column_names\n",
    "# tables = pd.DataFrame(myresult, columns=columns)\n",
    "# tables"
   ]
  },
  {
   "source": [
    "### 5. Daftar judul film sci-fi yang pernah dibintangi oleh Gina Degeneres. Kolom yang diwajibkan ada yaitu judul film dan kategorinya."
   ],
   "cell_type": "markdown",
   "metadata": {}
  },
  {
   "cell_type": "code",
   "execution_count": 60,
   "metadata": {},
   "outputs": [
    {
     "output_type": "execute_result",
     "data": {
      "text/plain": [
       "                 title category\n",
       "0  CHARIOTS CONSPIRACY   Sci-Fi\n",
       "1  COLDBLOODED DARLING   Sci-Fi\n",
       "2       FRISCO FORREST   Sci-Fi\n",
       "3    GOODFELLAS SALUTE   Sci-Fi\n",
       "4      LICENSE WEEKEND   Sci-Fi\n",
       "5         OPEN AFRICAN   Sci-Fi\n",
       "6  SPIRITED CASUALTIES   Sci-Fi"
      ],
      "text/html": "<div>\n<style scoped>\n    .dataframe tbody tr th:only-of-type {\n        vertical-align: middle;\n    }\n\n    .dataframe tbody tr th {\n        vertical-align: top;\n    }\n\n    .dataframe thead th {\n        text-align: right;\n    }\n</style>\n<table border=\"1\" class=\"dataframe\">\n  <thead>\n    <tr style=\"text-align: right;\">\n      <th></th>\n      <th>title</th>\n      <th>category</th>\n    </tr>\n  </thead>\n  <tbody>\n    <tr>\n      <th>0</th>\n      <td>CHARIOTS CONSPIRACY</td>\n      <td>Sci-Fi</td>\n    </tr>\n    <tr>\n      <th>1</th>\n      <td>COLDBLOODED DARLING</td>\n      <td>Sci-Fi</td>\n    </tr>\n    <tr>\n      <th>2</th>\n      <td>FRISCO FORREST</td>\n      <td>Sci-Fi</td>\n    </tr>\n    <tr>\n      <th>3</th>\n      <td>GOODFELLAS SALUTE</td>\n      <td>Sci-Fi</td>\n    </tr>\n    <tr>\n      <th>4</th>\n      <td>LICENSE WEEKEND</td>\n      <td>Sci-Fi</td>\n    </tr>\n    <tr>\n      <th>5</th>\n      <td>OPEN AFRICAN</td>\n      <td>Sci-Fi</td>\n    </tr>\n    <tr>\n      <th>6</th>\n      <td>SPIRITED CASUALTIES</td>\n      <td>Sci-Fi</td>\n    </tr>\n  </tbody>\n</table>\n</div>"
     },
     "metadata": {},
     "execution_count": 60
    }
   ],
   "source": [
    "## memilik title, kategori dari table film list\n",
    "## melakukan inner join table film actor dengan kolom yang sama yaitu film id\n",
    "## melakukan  join actor id\n",
    "## melakukan conditional dimana nama artis gina degeneres dan kategori sci-fi\n",
    "mycursor = mydb.cursor()\n",
    "mycursor.execute('''select title, category\n",
    "from film_list\n",
    "inner join film_actor on film_actor.film_id = film_list.FID\n",
    "join actor on actor.actor_id = film_actor.actor_id\n",
    "where actor.first_name = 'GINA' and actor.last_name = 'DEGENERES' and category ='Sci-Fi'\n",
    ";''')\n",
    "myresult = mycursor.fetchall()\n",
    "\n",
    "columns = mycursor.column_names\n",
    "tables = pd.DataFrame(myresult, columns=columns)\n",
    "tables"
   ]
  },
  {
   "cell_type": "code",
   "execution_count": null,
   "metadata": {},
   "outputs": [],
   "source": [
    "# # film --> film.id\n",
    "# film_list --> FID\n",
    "# film_actor --> actor_id, film_id\n",
    "# actor --> actor_id"
   ]
  },
  {
   "cell_type": "code",
   "execution_count": null,
   "metadata": {},
   "outputs": [],
   "source": []
  },
  {
   "cell_type": "code",
   "execution_count": null,
   "metadata": {},
   "outputs": [],
   "source": []
  }
 ]
}